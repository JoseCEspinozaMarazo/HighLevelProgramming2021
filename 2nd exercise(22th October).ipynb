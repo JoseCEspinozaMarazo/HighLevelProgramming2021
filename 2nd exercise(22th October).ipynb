{
 "cells": [
  {
   "cell_type": "markdown",
   "metadata": {},
   "source": [
    "1. Write the following expressions using the list comprehension"
   ]
  },
  {
   "cell_type": "code",
   "execution_count": 31,
   "metadata": {},
   "outputs": [
    {
     "name": "stdout",
     "output_type": "stream",
     "text": [
      "[(0, 0), (0, 1), (0, 2), (0, 3), (1, 0), (1, 1), (1, 2), (1, 3), (2, 0), (2, 1), (2, 2), (2, 3)]\n",
      "[1, 9, 25, 49, 81]\n"
     ]
    }
   ],
   "source": [
    "# 1 QUESTION\n",
    "ans = []\n",
    "for i in range(3):\n",
    "    for j in range(4):\n",
    "        ans.append((i, j))\n",
    "print(ans)\n",
    "\n",
    "# 2 QUESTION\n",
    "ans = map(lambda x: x * x, filter(lambda x: x % 2 == 1, range(10)))\n",
    "print(list(ans))"
   ]
  },
  {
   "cell_type": "code",
   "execution_count": 32,
   "metadata": {},
   "outputs": [
    {
     "name": "stdout",
     "output_type": "stream",
     "text": [
      "[(0, 0), (0, 1), (0, 2), (0, 3), (1, 0), (1, 1), (1, 2), (1, 3), (2, 0), (2, 1), (2, 2), (2, 3)]\n",
      "[1, 9, 25, 49, 81]\n"
     ]
    }
   ],
   "source": [
    "# 1 SOLUTION\n",
    "ans = [(x, y) for x in range(3) for y in range(4)]\n",
    "print(ans)\n",
    "\n",
    "# 2 SOLUTION\n",
    "ans = [x * x for x in range(10) if x % 2 == 1]\n",
    "print(list(ans))"
   ]
  },
  {
   "cell_type": "markdown",
   "metadata": {},
   "source": [
    "2\\. Convert the function $f$ into a function that doesn't use global variables and that does not modify the original list"
   ]
  },
  {
   "cell_type": "code",
   "execution_count": null,
   "metadata": {},
   "outputs": [],
   "source": [
    "#QUESTION\n",
    "x = 5\n",
    "def f(alist):\n",
    "    for i in range(x):\n",
    "         alist.append(i)\n",
    "    return alist\n",
    "\n",
    "\n",
    "ans = f(alist)\n",
    "print(ans)\n",
    "print(alist) # alist has been changed!"
   ]
  },
  {
   "cell_type": "code",
   "execution_count": 33,
   "metadata": {},
   "outputs": [
    {
     "name": "stdout",
     "output_type": "stream",
     "text": [
      "[1, 2, 3, 0, 1, 2, 3, 4]\n",
      "[1, 2, 3]\n"
     ]
    }
   ],
   "source": [
    "#SOLUTION\n",
    "x = 5\n",
    "def f_changed(x,alist = None):\n",
    "    blist=list(alist)\n",
    "    for i in range(x):\n",
    "             blist.append(i)      \n",
    "    return blist\n",
    "\n",
    "alist = [1,2,3]\n",
    "ans = f_changed(x,alist)\n",
    "print(ans)\n",
    "print(alist) "
   ]
  },
  {
   "cell_type": "markdown",
   "metadata": {},
   "source": [
    "3\\. Write a `decorator` hello that makes every wrapped function print “Hello!”, i.e. something like:\n",
    "\n",
    "```python\n",
    "@hello\n",
    "def square(x):\n",
    "    return x*x\n",
    "```\n",
    "\n"
   ]
  },
  {
   "cell_type": "code",
   "execution_count": 2,
   "metadata": {},
   "outputs": [
    {
     "name": "stdout",
     "output_type": "stream",
     "text": [
      "Hello!\n",
      "the square of: 4  is: 16\n"
     ]
    }
   ],
   "source": [
    "def decorator(function):\n",
    "    def wrapper(*args, **kwargs):\n",
    "        print(\"Hello!\")\n",
    "        function(*args, **kwargs)     \n",
    "    return wrapper\n",
    "\n",
    "@decorator\n",
    "def square(a):\n",
    "    b=a*a\n",
    "    print(\"the square of:\", a, \" is:\",b)\n",
    "    return b\n",
    "\n",
    "square(4)\n"
   ]
  },
  {
   "cell_type": "markdown",
   "metadata": {},
   "source": [
    "4\\. Write the factorial function in two different ways, so that it a) does and b) does not use recursion."
   ]
  },
  {
   "cell_type": "code",
   "execution_count": 34,
   "metadata": {},
   "outputs": [
    {
     "name": "stdout",
     "output_type": "stream",
     "text": [
      "the factorial function of 4 is 24 no recusrion used\n"
     ]
    },
    {
     "data": {
      "text/plain": [
       "24"
      ]
     },
     "execution_count": 34,
     "metadata": {},
     "output_type": "execute_result"
    }
   ],
   "source": [
    "def No_recursion(x):\n",
    "    factor = 1\n",
    "    if x >= 1:\n",
    "        for i in range (1,x+1):\n",
    "            factor = factor*i\n",
    "    print(\"the factorial function of\",x, \"is\",factor, \"no recusrion used\")\n",
    "\n",
    "No_recursion(4)\n",
    "\n",
    "def factor_recursion(x):\n",
    "    \n",
    "    if x == 1:\n",
    "        return x\n",
    "    else:\n",
    "        \n",
    "        return x*factor_recursion(x-1)\n",
    "\n",
    "\n",
    "factor_recursion(4)"
   ]
  },
  {
   "cell_type": "markdown",
   "metadata": {},
   "source": [
    "5\\. Use HOFs (zip in particular) to compute the weight of a circle, a disk and a sphere, assuming different radii and different densities:\n",
    "\n",
    "```python\n",
    "densities = {\"Al\" : [0.5, 1, 2], \"Fe\" : [3, 4, 5], \"Pb\" : [15, 20, 30]}\n",
    "radii = [1, 2, 3]\n",
    "```\n",
    "\n",
    "where the entries of the dictionary's values are the linear, superficial and volumetric densities of the materials respectively.\n",
    "\n",
    "Subsequently, define a list using a comprehension with three lambda functions that compute the circumference, the area and the volume for a given radius.\n"
   ]
  },
  {
   "cell_type": "code",
   "execution_count": 30,
   "metadata": {},
   "outputs": [
    {
     "name": "stdout",
     "output_type": "stream",
     "text": [
      "for the material:  Al\n",
      "for a circle the weight is: 3.141592653589793\n",
      "for a disk the weight is: 12.566370614359172\n",
      "for a sphere the weight is: 226.1946710584651 \n",
      "\n",
      "for the material:  Fe\n",
      "for a circle the weight is: 18.84955592153876\n",
      "for a disk the weight is: 50.26548245743669\n",
      "for a sphere the weight is: 565.4866776461628 \n",
      "\n",
      "for the material:  Pb\n",
      "for a circle the weight is: 94.24777960769379\n",
      "for a disk the weight is: 251.32741228718345\n",
      "for a sphere the weight is: 3392.9200658769764 \n",
      "\n",
      "[18.84955592153876, 28.274333882308138, 113.09733552923255]\n"
     ]
    }
   ],
   "source": [
    "import math\n",
    "from math import pi\n",
    "\n",
    "circunference= lambda a: pi * 2 * a\n",
    "area= lambda a: pi * a**2\n",
    "volume=lambda a:pi * (a**3) * 4/3\n",
    "\n",
    "calc_weight=[circunference,area,volume]\n",
    "densities = {\"Al\" : [0.5, 1, 2], \"Fe\" : [3, 4, 5], \"Pb\" : [15, 20, 30]}\n",
    "radii = [1, 2, 3]\n",
    "results={}\n",
    "for mats in densities:\n",
    "    results[mats]=[]\n",
    "    for a,b,c in zip(densities[mats],radii,calc_weight):\n",
    "        weight= a*c(b)\n",
    "        results[mats].append(weight)\n",
    "\n",
    "for mats in results:\n",
    "    count=0\n",
    "    print(\"for the material: \",mats)\n",
    "    for a in results[mats]:\n",
    "        if count==0:\n",
    "            print(\"for a circle the weight is:\",a)\n",
    "            \n",
    "        elif count==1:\n",
    "            print(\"for a disk the weight is:\",a)\n",
    "        else:\n",
    "            print(\"for a sphere the weight is:\",a, \"\\n\")\n",
    "        count+=1\n",
    "        \n",
    "################################\n",
    "#START OF PART 2\n",
    "r=3\n",
    "result2= [calculations(r) for calculations in calc_weight]\n",
    "print(result2)"
   ]
  },
  {
   "cell_type": "markdown",
   "metadata": {},
   "source": [
    "6\\. Edit the class defintion to add an instance attribute of `is_hungry = True` to the Dog class. Then add a method called `eat()` which changes the value of `is_hungry` to `False` when called. Figure out the best way to instantiate the dog objects and to feed the dogs, e.g. call the `eat()` method for all instances. Finally, print “My dogs are hungry.” or “My dogs are not hungry.” if all of them have `is_hungry = True` or `False`, respectively. The final output should look like this:\n",
    "\n",
    "`I have 3 dogs. \n",
    "Tom is 6. \n",
    "Fletcher is 7. \n",
    "Larry is 9. \n",
    "And they're all mammals, of course. \n",
    "My dogs are not hungry.\n",
    "`\n",
    "\n",
    "```python\n",
    "# Parent class\n",
    "class Dog:\n",
    "\n",
    "    # Class attribute\n",
    "    species = 'mammal'\n",
    "\n",
    "    # Initializer / Instance attributes\n",
    "    def __init__(self, name, age):\n",
    "        self.name = name\n",
    "        self.age = age\n",
    "\n",
    "    # instance method\n",
    "    def description(self):\n",
    "        return \"{} is {} years old\".format(self.name, self.age)\n",
    "\n",
    "    # instance method\n",
    "    def speak(self, sound):\n",
    "        return \"{} says {}\".format(self.name, sound)\n",
    "\n",
    "# Child class (inherits from Dog class)\n",
    "class RussellTerrier(Dog):\n",
    "    def run(self, speed):\n",
    "        return \"{} runs {}\".format(self.name, speed)\n",
    "\n",
    "# Child class (inherits from Dog class)\n",
    "class Bulldog(Dog):\n",
    "    def run(self, speed):\n",
    "        return \"{} runs {}\".format(self.name, speed)\n",
    "```"
   ]
  },
  {
   "cell_type": "code",
   "execution_count": 53,
   "metadata": {},
   "outputs": [
    {
     "name": "stdout",
     "output_type": "stream",
     "text": [
      "I have 3 dogs\n",
      "Tom is 6 years old\n",
      "Fletcher is 7 years old\n",
      "Larry is 9 years old\n",
      "And they're all mammals, of course.\n",
      "My dogs are not hungry.\n"
     ]
    }
   ],
   "source": [
    "# Parent class\n",
    "dog_pack =[]\n",
    "class Dog:\n",
    "\n",
    "    # Class attribute\n",
    "    species = 'mammal'\n",
    "\n",
    "    # Initializer / Instance attributes\n",
    "    def __init__(self, name, age,is_hungry):\n",
    "        self.name = name\n",
    "        self.age = age\n",
    "        self.is_hungry= is_hungry\n",
    "\n",
    "\n",
    "    # instance method\n",
    "    def description(self):\n",
    "        return \"{} is {} years old\".format(self.name, self.age)\n",
    "\n",
    "    # instance method\n",
    "    def speak(self, sound):\n",
    "        return \"{} says {}\".format(self.name, sound)\n",
    "    \n",
    "    def eat(self):\n",
    "        self.is_hungry=False\n",
    "        \n",
    "    def get_is_hungry(self):\n",
    "        return self.is_hungry\n",
    "        \n",
    "    \n",
    "\n",
    "# Child class (inherits from Dog class)\n",
    "class RussellTerrier(Dog):\n",
    "    def run(self, speed):\n",
    "        return \"{} runs {}\".format(self.name, speed)\n",
    "\n",
    "# Child class (inherits from Dog class)\n",
    "class Bulldog(Dog):\n",
    "    def run(self, speed):\n",
    "        return \"{} runs {}\".format(self.name, speed)\n",
    "\n",
    "#instantiate the dogs in a list to be able to call a class function for all dogs    \n",
    "def adopt_dog(name,age,hungry):\n",
    "    dog_pack.append(Dog(name,age,hungry))\n",
    "\n",
    "adopt_dog(\"Tom\",6,True)\n",
    "adopt_dog(\"Fletcher\",7,True)\n",
    "adopt_dog(\"Larry\",9,False)\n",
    "        \n",
    "#Change the message related to hunger according to the is_hungry attribute\n",
    "def hungry_dog(dog_pack):\n",
    "    count=0\n",
    "    for dog in dog_pack:\n",
    "        if dog.get_is_hungry() == True:\n",
    "            count =1\n",
    "    if(count ==0):\n",
    "        hunger=\"My dogs are not hungry.\"\n",
    "    else:\n",
    "        hunger=\"My dogs are hungry\"\n",
    "    return hunger\n",
    "\n",
    "    \n",
    "def printing_info():\n",
    "    print(\"I have\" ,len(dog_pack),\"dogs\")\n",
    "    for dog in dog_pack:\n",
    "        print (dog.description())\n",
    "        dog.eat()\n",
    "        #if dog.eat() is erased the last print becomes \"My dogs are hungry\"\n",
    "    print(\"And they're all mammals, of course.\")\n",
    "    #all species are the same since species is a class attributes\n",
    "    print(hungry_dog(dog_pack))\n",
    "\n",
    "printing_info()\n"
   ]
  }
 ],
 "metadata": {
  "kernelspec": {
   "display_name": "Python 3",
   "language": "python",
   "name": "python3"
  },
  "language_info": {
   "codemirror_mode": {
    "name": "ipython",
    "version": 3
   },
   "file_extension": ".py",
   "mimetype": "text/x-python",
   "name": "python",
   "nbconvert_exporter": "python",
   "pygments_lexer": "ipython3",
   "version": "3.8.8"
  }
 },
 "nbformat": 4,
 "nbformat_minor": 2
}
