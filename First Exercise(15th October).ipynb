{
 "cells": [
  {
   "cell_type": "code",
   "execution_count": null,
   "id": "7a452b79",
   "metadata": {},
   "outputs": [],
   "source": [
    "#1 The HelloWorld replacement\n",
    "tuple =()\n",
    "for i in range(1,101):\n",
    "    if i%3==0 and i%5==0:\n",
    "        x= \"HelloWorld\"\n",
    "        print(x)\n",
    "        x= \"PythonWorks\"\n",
    "    elif i%5==0:\n",
    "        x=\"World\"\n",
    "        print(x)\n",
    "        x=\"Works\"\n",
    "    elif i%3==0:\n",
    "        x=\"Hello\"\n",
    "        print(x)\n",
    "        x=\"Python\"\n",
    "    else:\n",
    "        x=i\n",
    "        print(x)\n",
    "    tuple = tuple + (x,)\n",
    "print(tuple)\n",
    "    "
   ]
  },
  {
   "cell_type": "code",
   "execution_count": null,
   "id": "dbbc57e4",
   "metadata": {},
   "outputs": [],
   "source": [
    "#2 The swap function\n",
    "def swap_function(a,b):\n",
    "    a,b = b,a    \n",
    "    return a,b\n",
    "swap_function(3,2)"
   ]
  },
  {
   "cell_type": "code",
   "execution_count": null,
   "id": "69f4c43c",
   "metadata": {},
   "outputs": [],
   "source": [
    "#3 Computing the distance\n",
    "import math\n",
    "def distance(u,v):\n",
    "    total = math.sqrt((u[0] ** 2 + v[0] ** 2) + (u[1] ** 2 + v[1] ** 2))\n",
    "    return total\n",
    "distance((0,3),(4,0))"
   ]
  },
  {
   "cell_type": "code",
   "execution_count": null,
   "id": "da52f293",
   "metadata": {},
   "outputs": [],
   "source": [
    "#4 Counting letters\n",
    "a_string = \"Write a program that prints the numbers from 1 to 100. \\\n",
    "But for multiples of three print Hello instead of the number and for the multiples of five print World. \\\n",
    "For numbers which are multiples of both three and five print HelloWorld.\"\n",
    "\n",
    "times_appear = {}\n",
    "for i in a_string.lower():\n",
    "    if i != \" \":\n",
    "#I'm not counting the spaces        \n",
    "        if i in times_appear:\n",
    "            times_appear[i] += 1\n",
    "        else:\n",
    "            times_appear[i] = 1\n",
    "        \n",
    "print(str(times_appear))"
   ]
  },
  {
   "cell_type": "code",
   "execution_count": null,
   "id": "468f7156",
   "metadata": {},
   "outputs": [],
   "source": [
    "#5 Isolating the unique\n",
    "num_list = [36, 45, 58, 3, 74, 96, 64, 45, 31, 10, 24, 19, 33, 86, 99, 18, 63, 70, 85,\n",
    " 85, 63, 47, 56, 42, 70, 84, 88, 55, 20, 54, 8, 56, 51, 79, 81, 57, 37, 91,\n",
    " 1, 84, 84, 36, 66, 9, 89, 50, 42, 91, 50, 95, 90, 98, 39, 16, 82, 31, 92, 41,\n",
    " 45, 30, 66, 70, 34, 85, 94, 5, 3, 36, 72, 91, 84, 34, 87, 75, 53, 51, 20, 89, 51, 20]\n",
    "\n",
    "unique_num = []\n",
    "for i in num_list:    \n",
    "    if i in unique_num:\n",
    "        unique_num.remove(i)\n",
    "    else:\n",
    "        unique_num.append(i) \n",
    "\n",
    "print(\"the list of unique numbers is\",unique_num, \" \\nAnd the number of unique numbers are:\" ,len(unique_num))"
   ]
  },
  {
   "cell_type": "code",
   "execution_count": null,
   "id": "e30e14de",
   "metadata": {},
   "outputs": [],
   "source": [
    "#6 Combination of functions\n",
    "def square_num(a):\n",
    "    square = a ** 2  \n",
    "    return square\n",
    "def cube_num(b):\n",
    "    cube = b ** 3   \n",
    "    return cube\n",
    "def six_num(c):\n",
    "    Total = square_num(c) * cube_num(c) * c\n",
    "    return c, \"to the 6th power is: \", Total\n",
    "\n",
    "six_num(3)\n"
   ]
  },
  {
   "cell_type": "code",
   "execution_count": null,
   "id": "f97285c4",
   "metadata": {},
   "outputs": [],
   "source": [
    "#7a Cubes for\n",
    "num_list= [0,1,2,3,4,5,6,7,8,9,10]\n",
    "cube = []\n",
    "for i in num_list:\n",
    "    cube.append(i**3)\n",
    "print(cube)"
   ]
  },
  {
   "cell_type": "code",
   "execution_count": null,
   "id": "73bf8922",
   "metadata": {},
   "outputs": [],
   "source": [
    "#7b Cubes List comprehension\n",
    "num_list= [0,1,2,3,4,5,6,7,8,9,10]\n",
    "cube = [i**3 for i in num_list]\n",
    "print(cube)"
   ]
  },
  {
   "cell_type": "code",
   "execution_count": null,
   "id": "9a198002",
   "metadata": {},
   "outputs": [],
   "source": [
    "#8 Nested List comprenhension\n",
    "def pyth_theorem(a,b,c):\n",
    "    x=False\n",
    "    if a**2 + b**2 ==c**2:\n",
    "        x=True\n",
    "    return x\n",
    "\n",
    "def common_divisor(a, b):\n",
    "    i=1\n",
    "    while(i<=a and i<=b):\n",
    "        if(a%i==0 and b%i == 0):\n",
    "            gcd=i;\n",
    "        i+=1\n",
    "    return gcd;\n",
    "\n",
    "pyth_list=[]\n",
    "\n",
    "for a in range(1,100):\n",
    "    for b in range(a+1,100):\n",
    "            for c in range(b+1,100):\n",
    "                if(pyth_theorem(a,b,c)== True and common_divisor(a,b)==1):\n",
    "                    pyth_list.append((a,b,c))\n",
    "\n",
    "result = tuple(pyth_list)\n",
    "print(result)\n"
   ]
  },
  {
   "cell_type": "code",
   "execution_count": 52,
   "id": "76ea2880",
   "metadata": {},
   "outputs": [
    {
     "name": "stdout",
     "output_type": "stream",
     "text": [
      "[[0.         0.11111111 0.22222222]\n",
      " [0.22222222 0.77777778 0.66666667]\n",
      " [0.44444444 0.         1.        ]]\n"
     ]
    }
   ],
   "source": [
    "#9 Normalization\n",
    "#Write a function that takes a tuple of numbers and returns it with the entries normalized to one\n",
    "import numpy as np\n",
    "\n",
    "def Normalize(tupling):\n",
    "    return (tupling - np.min(tupling)) / (np.max(tupling) - np.min(tupling))\n",
    "\n",
    "non_normalized = ([0,1,2],[2,7,6],[4,0,9])\n",
    "    \n",
    "\n",
    "normalized = Normalize(non_normalized)\n",
    "\n",
    "print(normalized)\n"
   ]
  }
 ],
 "metadata": {
  "kernelspec": {
   "display_name": "Python 3",
   "language": "python",
   "name": "python3"
  },
  "language_info": {
   "codemirror_mode": {
    "name": "ipython",
    "version": 3
   },
   "file_extension": ".py",
   "mimetype": "text/x-python",
   "name": "python",
   "nbconvert_exporter": "python",
   "pygments_lexer": "ipython3",
   "version": "3.8.8"
  }
 },
 "nbformat": 4,
 "nbformat_minor": 5
}
