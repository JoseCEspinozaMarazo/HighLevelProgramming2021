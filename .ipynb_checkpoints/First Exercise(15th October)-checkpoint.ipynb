{
 "cells": [
  {
   "cell_type": "code",
   "execution_count": null,
   "id": "7a452b79",
   "metadata": {},
   "outputs": [],
   "source": [
    "#1 Hello World\n",
    "tuple =()\n",
    "for i in range(1,101):\n",
    "    if i%3==0 and i%5==0:\n",
    "        x= \"HelloWorld\"\n",
    "        print(x)\n",
    "        x= \"PythonWorks\"\n",
    "    elif i%5==0:\n",
    "        x=\"World\"\n",
    "        print(x)\n",
    "        x=\"Works\"\n",
    "    elif i%3==0:\n",
    "        x=\"Hello\"\n",
    "        print(x)\n",
    "        x=\"Python\"\n",
    "    else:\n",
    "        x=i\n",
    "        print(x)\n",
    "    tuple = tuple + (x,)\n",
    "print(tuple)\n",
    "    "
   ]
  },
  {
   "cell_type": "code",
   "execution_count": null,
   "id": "dbbc57e4",
   "metadata": {},
   "outputs": [],
   "source": [
    "#2 Swap value \n",
    "def swap_function(a,b):\n",
    "    a,b = b,a    \n",
    "    return a,b\n",
    "swap_function(3,2)"
   ]
  },
  {
   "cell_type": "code",
   "execution_count": null,
   "id": "69f4c43c",
   "metadata": {},
   "outputs": [],
   "source": [
    "#3 Compute distance\n",
    "import math\n",
    "def distance(u,v):\n",
    "    total = math.sqrt((u[0] ** 2 + v[0] ** 2) + (u[1] ** 2 + v[1] ** 2))\n",
    "    return total\n",
    "distance((0,3),(4,0))"
   ]
  },
  {
   "cell_type": "code",
   "execution_count": null,
   "id": "da52f293",
   "metadata": {},
   "outputs": [],
   "source": [
    "#4 times Characters appears\n",
    "a_string = \"Write a program that prints the numbers from 1 to 100. \\\n",
    "But for multiples of three print Hello instead of the number and for the multiples of five print World. \\\n",
    "For numbers which are multiples of both three and five print HelloWorld.\"\n",
    "\n",
    "times_appear = {}\n",
    "for i in a_string.lower():\n",
    "    if i != \" \":\n",
    "#I'm not counting the spaces        \n",
    "        if i in times_appear:\n",
    "            times_appear[i] += 1\n",
    "        else:\n",
    "            times_appear[i] = 1\n",
    "        \n",
    "print(str(times_appear))"
   ]
  },
  {
   "cell_type": "code",
   "execution_count": null,
   "id": "468f7156",
   "metadata": {},
   "outputs": [],
   "source": [
    "#5 Isolate Unique\n",
    "num_list = [36, 45, 58, 3, 74, 96, 64, 45, 31, 10, 24, 19, 33, 86, 99, 18, 63, 70, 85,\n",
    " 85, 63, 47, 56, 42, 70, 84, 88, 55, 20, 54, 8, 56, 51, 79, 81, 57, 37, 91,\n",
    " 1, 84, 84, 36, 66, 9, 89, 50, 42, 91, 50, 95, 90, 98, 39, 16, 82, 31, 92, 41,\n",
    " 45, 30, 66, 70, 34, 85, 94, 5, 3, 36, 72, 91, 84, 34, 87, 75, 53, 51, 20, 89, 51, 20]\n",
    "\n",
    "unique_num = []\n",
    "for i in num_list:    \n",
    "    if i in unique_num:\n",
    "        unique_num.remove(i)\n",
    "    else:\n",
    "        unique_num.append(i) \n",
    "\n",
    "print(\"the list of unique numbers is\",unique_num, \" \\nAnd the number of unique numbers are:\" ,len(unique_num))"
   ]
  },
  {
   "cell_type": "code",
   "execution_count": null,
   "id": "e30e14de",
   "metadata": {},
   "outputs": [],
   "source": [
    "#6 Combinations of functions\n",
    "def square_num(a):\n",
    "    square = a ** 2  \n",
    "    return square\n",
    "def cube_num(b):\n",
    "    cube = b ** 3   \n",
    "    return cube\n",
    "def six_num(c):\n",
    "    Total = square_num(c) * cube_num(c) * c\n",
    "    return c, \"to the 6th power is: \", Total\n",
    "\n",
    "six_num(3)\n"
   ]
  },
  {
   "cell_type": "code",
   "execution_count": null,
   "id": "f97285c4",
   "metadata": {},
   "outputs": [],
   "source": [
    "#7a Cubes for\n",
    "num_list= [0,1,2,3,4,5,6,7,8,9,10]\n",
    "cube = []\n",
    "for i in num_list:\n",
    "    cube.append(i**3)\n",
    "print(cube)"
   ]
  },
  {
   "cell_type": "code",
   "execution_count": null,
   "id": "73bf8922",
   "metadata": {},
   "outputs": [],
   "source": [
    "#7b Cubes List comprehension\n",
    "num_list= [0,1,2,3,4,5,6,7,8,9,10]\n",
    "cube = [i**3 for i in num_list]\n",
    "print(cube)"
   ]
  },
  {
   "cell_type": "code",
   "execution_count": 16,
   "id": "9a198002",
   "metadata": {},
   "outputs": [
    {
     "name": "stdout",
     "output_type": "stream",
     "text": [
      "[(3, 4, 5), (5, 12, 13), (6, 8, 10), (7, 24, 25), (8, 15, 17), (9, 12, 15), (9, 40, 41), (10, 24, 26), (11, 60, 61), (12, 16, 20), (12, 35, 37), (13, 84, 85), (14, 48, 50), (15, 20, 25), (15, 36, 39), (16, 30, 34), (16, 63, 65), (18, 24, 30), (18, 80, 82), (20, 21, 29), (20, 48, 52), (21, 28, 35), (21, 72, 75), (24, 32, 40), (24, 45, 51), (24, 70, 74), (25, 60, 65), (27, 36, 45), (28, 45, 53), (28, 96, 100), (30, 40, 50), (30, 72, 78), (32, 60, 68), (33, 44, 55), (33, 56, 65), (35, 84, 91), (36, 48, 60), (36, 77, 85), (39, 52, 65), (39, 80, 89), (40, 42, 58), (40, 75, 85), (42, 56, 70), (45, 60, 75), (48, 55, 73), (48, 64, 80), (51, 68, 85), (54, 72, 90), (57, 76, 95), (60, 63, 87), (60, 80, 100), (65, 72, 97)]\n"
     ]
    }
   ],
   "source": [
    "#8 Nested List comprenhension\n",
    "def pyth_theorem(a,b,c):\n",
    "    x=False\n",
    "    if a**2 + b**2 ==c**2:\n",
    "        x=True\n",
    "    return x\n",
    "#find value  from a nested list print(pyth_list[0][0])\n",
    "pyth_list=[]\n",
    "\n",
    "repeat_list=[]\n",
    "for a in range(1,101):\n",
    "    for b in range(a+1,101):\n",
    "            for c in range(b+1,101):\n",
    "                if(pyth_theorem(a,b,c)== True):\n",
    "                    pyth_list.append((a,b,c))\n",
    "                    repeat_list.extend([a,b])\n",
    "\n",
    "print(pyth_list)\n",
    "\n",
    "#if  despues de B pero antes de C, en este caso un for de repeat_list si es divisible\n",
    "# hacer un for despues de obtener la lista para verificar si un elemento es divisible por un elemento de la misma lista\n",
    "# Las opciones son o evitar agregarlo o quitarlo despues de agregarlo, idealmente seria el primero"
   ]
  },
  {
   "cell_type": "code",
   "execution_count": null,
   "id": "76ea2880",
   "metadata": {},
   "outputs": [],
   "source": [
    "#9 Normalization"
   ]
  }
 ],
 "metadata": {
  "kernelspec": {
   "display_name": "Python 3",
   "language": "python",
   "name": "python3"
  },
  "language_info": {
   "codemirror_mode": {
    "name": "ipython",
    "version": 3
   },
   "file_extension": ".py",
   "mimetype": "text/x-python",
   "name": "python",
   "nbconvert_exporter": "python",
   "pygments_lexer": "ipython3",
   "version": "3.8.8"
  }
 },
 "nbformat": 4,
 "nbformat_minor": 5
}
