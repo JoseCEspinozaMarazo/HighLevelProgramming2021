{
 "cells": [
  {
   "cell_type": "markdown",
   "metadata": {},
   "source": [
    "1\\. Write a function that converts numbers among the bin, dec, and hex representations (bin<->dec<->hex)"
   ]
  },
  {
   "cell_type": "code",
   "execution_count": null,
   "metadata": {},
   "outputs": [],
   "source": [
    "#ori=original representation\n",
    "#conv = converting to\n",
    "def converting(x,ori,conv):\n",
    "    values =[\"bin\",\"dec\",\"hex\"]\n",
    "    if ori == \"bin\" and conv ==\"dec\":\n",
    "        return int(x, 2)\n",
    "    elif ori == \"dec\" and conv ==\"bin\":\n",
    "        return bin(x)\n",
    "    elif ori == \"dec\" and conv ==\"hex\":\n",
    "        return hex(x)\n",
    "    elif ori == \"hex\" and conv ==\"dec\":\n",
    "        return int(x,16)\n",
    "    elif ori == \"hex\" and conv ==\"bin\":\n",
    "        return bin(int(x,16))\n",
    "    elif ori == \"bin\" and conv ==\"hex\":\n",
    "        return hex(int(x,2))\n",
    "    elif ori not in values or conv not in values:\n",
    "        print(\"wrong representations inserted, must be bin,dec or hex\")\n",
    "\n",
    "#printing the results,from dec to bin, from bin to hex and hex to dec\n",
    "\n",
    "result1=converting(13,\"dec\",\"bin\")\n",
    "print(\"from decimal:\", 13,\"to the binary:\",result1, \"\\n\")\n",
    "\n",
    "result2=converting(result1,\"bin\",\"hex\")\n",
    "print(\"from binary:\", result1,\"to the hexadecimal:\",result2, \"\\n\")\n",
    "\n",
    "result3=converting(result2,\"hex\",\"dec\")\n",
    "print(\"from hexadecimal:\", result2,\"to the decimal:\",result3, \"\\n\")\n",
    "\n",
    "#printing the other posibilities, from dec to hex, from hex to bin, from bin to dec\n",
    "result4=converting(result3,\"dec\",\"hex\")\n",
    "print(\"from hexadecimal:\", result2,\"to the decimal:\",result4, \"\\n\")\n",
    "\n",
    "result5=converting(result4,\"hex\",\"bin\")\n",
    "print(\"from hexadecimal:\", result4,\"to the decimal:\",result5, \"\\n\")\n",
    "\n",
    "result6=converting(result5,\"bin\",\"dec\")\n",
    "print(\"from hexadecimal:\", result5,\"to the decimal:\",result6)"
   ]
  },
  {
   "cell_type": "markdown",
   "metadata": {},
   "source": [
    "2\\. Write a function that converts a 32 bit word into a single precision floating point (i.e. interprets the various bits as sign, mantissa and exponent) and check its validity."
   ]
  },
  {
   "cell_type": "code",
   "execution_count": 17,
   "metadata": {},
   "outputs": [
    {
     "name": "stdout",
     "output_type": "stream",
     "text": [
      "for 0 the sign is: 1\n",
      "the mantissa is: 1.000003695487976\n",
      "for 00000000 the exponent is: 0\n",
      "the precision floating point is: -5.877493474237635e-39\n"
     ]
    }
   ],
   "source": [
    "x=\"00000000000000000000000000011111\" #32 bit word\n",
    "\n",
    "def converting_bits(b):\n",
    "    result=0.0\n",
    "    bit_sign=x[0] #only 1 bit for the number\n",
    "    bit_mantissa = x[9:] # 23(32-9) bits for the mantissa\n",
    "    bit_exponent = x[1:9] #9 bits for the  exponent\n",
    "    \n",
    "    #if the bit is 0 then sign=1 else sign=-1\n",
    "    if bit_sign ==\"0\":\n",
    "        sign=1\n",
    "    else:\n",
    "        sign=-1\n",
    "    \n",
    "    exponent=int(bit_exponent,2)#calculation the exponent\n",
    "    \n",
    "    #calculating the mantissa\n",
    "    mantissa=1\n",
    "    for i in range(len(bit_mantissa)):\n",
    "        if(int(bit_mantissa[i])==1):\n",
    "            mantissa += pow(2,-(i+1))\n",
    "    \n",
    "    result = (-1)**sign * 2**(exponent - 127)*mantissa #getting the float number\n",
    "    #printing the results\n",
    "    print(\"for\", bit_sign,\"the sign is:\",sign)\n",
    "    print(\"the mantissa is:\", mantissa)\n",
    "    print(\"for\", bit_exponent,\"the exponent is:\",exponent)\n",
    "    print(\"the precision floating point is:\",result)\n",
    "\n",
    "    \n",
    "    \n",
    "converting_bits(x)"
   ]
  },
  {
   "cell_type": "markdown",
   "metadata": {},
   "source": [
    "3\\. Write a program to determine the underflow and overflow limits (within a factor of 2) for python on your computer. \n",
    "\n",
    "**Tip**: define two variables initialized to 1 and halve/double them for a sufficient amount of times to exceed the under/over-flow limits  "
   ]
  },
  {
   "cell_type": "code",
   "execution_count": null,
   "metadata": {},
   "outputs": [],
   "source": [
    "x=float(1)\n",
    "y=float(1)\n",
    "\n",
    "#calculating the overflow\n",
    "while x!=float('inf'):\n",
    "    num_before=x\n",
    "    x=x * 2.0\n",
    "\n",
    "print(\"The overflow limit is:\",num_before)\n",
    "    \n",
    "#calculating the underflow\n",
    "while y!=0:\n",
    "    num_before2=y\n",
    "    y=y / 2.0\n",
    "\n",
    "print(\"The underflow limit is:\",num_before2)"
   ]
  },
  {
   "cell_type": "markdown",
   "metadata": {},
   "source": [
    "4\\. Write a program to determine the machine precision\n",
    "\n",
    "**Tip**: define a new variable by adding an increasingly smaller value (in the same way as the previous problem) and check when the addition starts to have no effect on the number"
   ]
  },
  {
   "cell_type": "code",
   "execution_count": null,
   "metadata": {},
   "outputs": [],
   "source": [
    "x=0\n",
    "increasing=10\n",
    "checking=True\n",
    "counting=0\n",
    "while checking==True:\n",
    "    y=x\n",
    "    x=x+increasing\n",
    "    increasing /=2\n",
    "    print(x)\n",
    "    counting +=1\n",
    "    if(x==y):\n",
    "        checking=False\n",
    "print(\"\\nit took:\",counting, \"increases before stopping\")"
   ]
  },
  {
   "cell_type": "markdown",
   "metadata": {},
   "source": [
    "5\\. Write a function that takes in input three parameters $a$, $b$ and $c$ and prints out the two solutions to the quadratic equation $ax^2+bx+c=0$ using the standard formula:\n",
    "$$\n",
    "x=\\frac{-b\\pm\\sqrt{b^2-4ac}}{2a}\n",
    "$$\n",
    "\n",
    "(a) use the program to compute the solution for $a=0.001$, $b=1000$ and $c=0.001$\n",
    "\n",
    "(b) re-express the standard solution formula by multiplying the numerator and the denominator by $-b\\mp\\sqrt{b^2-4ac}$ and again find the solution for $a=0.001$, $b=1000$ and $c=0.001$. How does it compare with what has been previously obtained, and why?\n",
    "\n",
    "(c) write a function that computes the roots of a quadratic equation accurately in all cases"
   ]
  },
  {
   "cell_type": "code",
   "execution_count": null,
   "metadata": {},
   "outputs": [],
   "source": [
    "import math\n",
    "from math import sqrt\n",
    "\n",
    "def problem1(a,b,c):\n",
    "    mult=sqrt(b**2 -4*a*c)\n",
    "    res1=(-b+mult)/(2*a)\n",
    "    res2=(-b-mult)/(2*a)\n",
    "    return (res1,res2)\n",
    "\n",
    "def problem2 (a,b,c):\n",
    "    mult=sqrt(b**2 -4*a*c)\n",
    "    res1=((-b+mult)*(-b+mult))/((-b+mult)*2*a)\n",
    "    res2=((-b-mult)*(-b-mult))/((-b+mult)*2*a)\n",
    "    return (res1,res2)\n",
    "        \n",
    "def problem3 (a,b,c):\n",
    "    mult=sqrt(b**2 -4*a*c)\n",
    "    res1=((-b+mult)*(-b+mult))/((-b+mult)*2*a)\n",
    "    res2=(-b-mult)/(2*a)\n",
    "    return (res1,res2)\n",
    "    \n",
    "print(problem1(0.001, 1000, 0.001))\n",
    "print(problem2(0.001, 1000, 0.001))\n",
    "print(\"the value of res 2(-b-sqrt(b**2 -4*a*c)) changed\")\n",
    "print(problem3(0.001, 1000, 0.001))"
   ]
  },
  {
   "cell_type": "markdown",
   "metadata": {},
   "source": [
    "6\\. Write a program that implements the function $f(x)=x(x−1)$\n",
    "\n",
    "(a) Calculate the derivative of the function at the point $x = 1$ using the derivative definition:\n",
    "\n",
    "$$\n",
    "\\frac{{\\rm d}f}{{\\rm d}x} = \\lim_{\\delta\\to0} \\frac{f(x+\\delta)-f(x)}{\\delta}\n",
    "$$\n",
    "\n",
    "with $\\delta = 10^{−2}$. Calculate the true value of the same derivative analytically and compare it with the answer your program gives. The two will not agree perfectly. Why?\n",
    "\n",
    "(b) Repeat the calculation for $\\delta = 10^{−4}, 10^{−6}, 10^{−8}, 10^{−10}, 10^{−12}$ and $10^{−14}$. How does the accuracy scales with $\\delta$?"
   ]
  },
  {
   "cell_type": "code",
   "execution_count": null,
   "metadata": {},
   "outputs": [],
   "source": [
    "a_delta= 10**-2\n",
    "\n",
    "def f(x):\n",
    "    return x*(x-1)\n",
    "\n",
    "def derivative(x,delta):\n",
    "    return(f(x+delta)-f(x))/delta\n",
    "\n",
    "def analytically(x):\n",
    "    return 2*x-1\n",
    "\n",
    "print(\"The value of the derivative is:\",derivative(1,a_delta))\n",
    "print(derivative(1,10**-2))\n",
    "\n",
    "print(\"Analytically calculated derivative is: \",analytically(1))\n",
    "print(\"There is a difference because of the precise numerical computation\")\n",
    "\n",
    "delta_list=[10**-4,10**-6,10**-8,10**-10,10**-12,10**-14]\n",
    "\n",
    "for delt in delta_list:\n",
    "    print(\"For the delta of:\" ,delt,\"the derivative is:\",derivative(1,delt))\n",
    "\n",
    "print(\"\\nThe value that is closer to 1 is 10**-8\")"
   ]
  },
  {
   "cell_type": "markdown",
   "metadata": {},
   "source": [
    "7\\. Consider the integral of the semicircle of radius 1:\n",
    "$$\n",
    "I=\\int_{-1}^{1} \\sqrt(1-x^2) {\\rm d}x\n",
    "$$\n",
    "which is known to be $I=\\frac{\\pi}{2}=1.57079632679...$.\n",
    "\n",
    "Alternatively we can use the Riemann definition of the integral:\n",
    "$$\n",
    "I=\\lim_{N\\to\\infty} \\sum_{k=1}^{N} h y_k \n",
    "$$\n",
    "\n",
    "with $h=2/N$ the width of each of the $N$ slices the domain is divided into and where\n",
    "$y_k$ is the value of the function at the $k-$th slice.\n",
    "\n",
    "(a) Write a program to compute the integral with $N=100$. How does the result compare to the true value?\n",
    "\n",
    "(b) How much can $N$ be increased if the computation needs to be run in less than a second? What is the gain in running it for 1 minute? \n"
   ]
  },
  {
   "cell_type": "code",
   "execution_count": 8,
   "metadata": {},
   "outputs": [
    {
     "name": "stdout",
     "output_type": "stream",
     "text": [
      "With an N of 100 the result is: 1.5602085158895234 but its not the same as the true value: 1.5707963267948966\n",
      "the time it took is: 0.0005340000000160217 seconds\n",
      "\n",
      "With an N of 763000 the result is: 1.5707950152967423\n",
      "the time it took is: 0.9619224999999005 seconds\n",
      "\n",
      "With an N of 45780000 the result is: 1.5707963049496596\n",
      "the time it took is: 59.811761299999944 seconds\n",
      "With a duration of 1 minute the value obtained is closer to the true value 1.5707963267948966\n"
     ]
    }
   ],
   "source": [
    "from timeit import default_timer as timer\n",
    "import math\n",
    "from math import sqrt\n",
    "\n",
    "true_value=math.pi/2\n",
    "\n",
    "#762999\n",
    "#using N+1 instead of 101 since part b ask to increase N\n",
    "def riemann(N):\n",
    "    h=2/N\n",
    "    sumatoria=0\n",
    "    for i in range(1,N+1):\n",
    "        sumatoria+=h*math.sqrt(1-(i/N)**2)\n",
    "    return sumatoria\n",
    "\n",
    "begin= timer()\n",
    "print(\"With an N of 100 the result is:\", riemann(100),\"but its not the same as the true value:\",true_value)\n",
    "ending=timer()\n",
    "total = ending-begin\n",
    "print(\"the time it took is:\",total,\"seconds\")\n",
    "\n",
    "#for 1 sec\n",
    "N=763000\n",
    "begin= timer()\n",
    "print(\"\\nWith an N of\",N,\"the result is:\", riemann(763000))\n",
    "ending=timer()\n",
    "total = ending-begin\n",
    "print(\"the time it took is:\",total,\"seconds\")\n",
    "\n",
    "#for 60 sec\n",
    "N=N*60\n",
    "begin= timer()\n",
    "print(\"\\nWith an N of\",N,\"the result is:\", riemann(N))\n",
    "ending=timer()\n",
    "total = ending-begin\n",
    "print(\"the time it took is:\",total,\"seconds\")\n",
    "print(\"With a duration of 1 minute the value obtained is closer to the true value\",true_value)"
   ]
  }
 ],
 "metadata": {
  "kernelspec": {
   "display_name": "Python 3",
   "language": "python",
   "name": "python3"
  },
  "language_info": {
   "codemirror_mode": {
    "name": "ipython",
    "version": 3
   },
   "file_extension": ".py",
   "mimetype": "text/x-python",
   "name": "python",
   "nbconvert_exporter": "python",
   "pygments_lexer": "ipython3",
   "version": "3.8.8"
  }
 },
 "nbformat": 4,
 "nbformat_minor": 2
}
